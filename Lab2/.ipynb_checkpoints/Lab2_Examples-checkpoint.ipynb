{
 "cells": [
  {
   "cell_type": "markdown",
   "id": "765ede05",
   "metadata": {},
   "source": [
    "# <span style='color:blue'> LAB2: </span>\n",
    "# <span style='color:blue'> PYTORCH INTRODUCTION </span>"
   ]
  },
  {
   "cell_type": "markdown",
   "id": "2001cc17",
   "metadata": {},
   "source": [
    "# <span style='color:red'> Part 1: Python as Deep Learning Platform -----------------------------------------------------</span>"
   ]
  },
  {
   "cell_type": "markdown",
   "id": "cf890327",
   "metadata": {},
   "source": [
    "### 1.1 - Verify PyTorch Installation"
   ]
  },
  {
   "cell_type": "code",
   "execution_count": 1,
   "id": "b094209d",
   "metadata": {},
   "outputs": [],
   "source": [
    "# Import necessary packages\n",
    "\n",
    "import numpy as np\n",
    "import torch"
   ]
  },
  {
   "cell_type": "code",
   "execution_count": 2,
   "id": "1899d484",
   "metadata": {},
   "outputs": [
    {
     "name": "stdout",
     "output_type": "stream",
     "text": [
      "tensor([[0.2608, 0.7382, 0.2313],\n",
      "        [0.3756, 0.2151, 0.6753],\n",
      "        [0.3290, 0.0308, 0.6711],\n",
      "        [0.9537, 0.1441, 0.5401],\n",
      "        [0.6280, 0.8951, 0.0220]])\n"
     ]
    }
   ],
   "source": [
    "# Define a random torch tensor of shape (5, 3)\n",
    "\n",
    "x = torch.rand(5, 3)\n",
    "print(x)"
   ]
  },
  {
   "cell_type": "code",
   "execution_count": null,
   "id": "65df02d3",
   "metadata": {},
   "outputs": [],
   "source": [
    "# This lines ensures PyTorch can communicate with your GPU for hardware acceleration\n",
    "\n",
    "torch.cuda.is_available()"
   ]
  },
  {
   "cell_type": "markdown",
   "id": "08eb68cf",
   "metadata": {},
   "source": [
    "# <span style='color:red'> Part 2: Neural Network Workflow in PyTorch (Simple Linear Regression) ----------</span>"
   ]
  },
  {
   "cell_type": "markdown",
   "id": "045ebaa5",
   "metadata": {},
   "source": [
    "### 2.1 - Prepare Data"
   ]
  },
  {
   "cell_type": "code",
   "execution_count": null,
   "id": "8598fbc8",
   "metadata": {},
   "outputs": [],
   "source": [
    "%matplotlib inline\n",
    "\n",
    "import matplotlib.pyplot as plt"
   ]
  },
  {
   "cell_type": "code",
   "execution_count": null,
   "id": "502ab4d9",
   "metadata": {},
   "outputs": [],
   "source": [
    "# Generate training data for x and y\n",
    "\n",
    "x_train = np.arange(11, dtype = np.float32)\n",
    "x_train = x_train[:, np.newaxis] # [:, np.nexaxis] re-orient the x_train so that it's in vertical orientation\n",
    "\n",
    "y_train = (2 * x_train) + 1"
   ]
  },
  {
   "cell_type": "code",
   "execution_count": null,
   "id": "49889902",
   "metadata": {},
   "outputs": [],
   "source": [
    "print(x_train)"
   ]
  },
  {
   "cell_type": "code",
   "execution_count": null,
   "id": "9bd1c45d",
   "metadata": {},
   "outputs": [],
   "source": [
    "print(y_train)"
   ]
  },
  {
   "cell_type": "markdown",
   "id": "23562000",
   "metadata": {},
   "source": [
    "### 2.2 - Define Model"
   ]
  },
  {
   "cell_type": "code",
   "execution_count": null,
   "id": "48999749",
   "metadata": {},
   "outputs": [],
   "source": [
    "# A neural network model in PyTorch is a class \n",
    "\n",
    "class linearRegression(torch.nn.Module):\n",
    "    \n",
    "    def __init__(self, input_dim, output_dim): # Initializes the model with a linear layer with input/output dimension\n",
    "        \n",
    "        super(linearRegression, self).__init__() # This line allows us to use attributes/methods from torch.nn.Module\n",
    "        \n",
    "        self.linear = torch.nn.Linear(input_dim, output_dim) # Define a single linear layer with input/output dimensions\n",
    "\n",
    "    def forward(self, x): # This function describes the information flow within the network from input -> output\n",
    "        \n",
    "        out = self.linear(x) # We only have a single layer so the network output = output of the linear layer \n",
    "        \n",
    "        return out"
   ]
  },
  {
   "cell_type": "markdown",
   "id": "60513711",
   "metadata": {},
   "source": [
    "### 2.3 - Select Hyperparameters"
   ]
  },
  {
   "cell_type": "code",
   "execution_count": null,
   "id": "7df28b25",
   "metadata": {},
   "outputs": [],
   "source": [
    "# Initialize our neural network model with input and output dimensions\n",
    "model = linearRegression(input_dim = 4, output_dim = 1)\n",
    "\n",
    "# Define the learning rate and epoch (# of iterations)\n",
    "learning_rate = 0.01 \n",
    "epochs = 100\n",
    "\n",
    "# Define loss function and optimizer\n",
    "loss_func = torch.nn.MSELoss() \n",
    "optimizer = torch.optim.SGD(model.parameters(), lr = learning_rate)\n",
    "\n",
    "# Run this line if you have PyTorch GPU version\n",
    "if torch.cuda.is_available():\n",
    "    model.cuda()"
   ]
  },
  {
   "cell_type": "markdown",
   "id": "0c76eeb7",
   "metadata": {},
   "source": [
    "### 2.4 - Identify Tracked Values"
   ]
  },
  {
   "cell_type": "code",
   "execution_count": null,
   "id": "c4be6f16",
   "metadata": {},
   "outputs": [],
   "source": [
    "# Define a list or numpy array placeholder to keep track of our training loss\n",
    "\n",
    "train_loss_list = []"
   ]
  },
  {
   "cell_type": "markdown",
   "id": "7c1403d8",
   "metadata": {},
   "source": [
    "### 2.5 - Train Model"
   ]
  },
  {
   "cell_type": "code",
   "execution_count": null,
   "id": "4c12bb57",
   "metadata": {
    "scrolled": true
   },
   "outputs": [],
   "source": [
    "# Convert our dataset (inputs and targets) into torch tensors\n",
    "\n",
    "if torch.cuda.is_available():\n",
    "    inputs = torch.from_numpy(x_train).cuda() # If using GPU version, transfer the dataset to GPU memory\n",
    "    targets = torch.from_numpy(y_train).cuda()\n",
    "else:\n",
    "    inputs = torch.from_numpy(x_train)\n",
    "    targets = torch.from_numpy(y_train)\n",
    "\n",
    "# TRAINING LOOP-------------------------------------------------------------------------\n",
    "\n",
    "for epoch in range(epochs): # For each epoch (i.e. single pass on the training dataset)\n",
    "\n",
    "    optimizer.zero_grad() # Empty the gradient buffer so each learning event per epoch is separate\n",
    "\n",
    "    outputs = model(inputs) # Forward pass the inputs through the network to produce outputs \n",
    "\n",
    "    loss = loss_func(outputs, targets) # Compute the loss via comparing the output with expected targets\n",
    "    \n",
    "    train_loss_list.append(loss.item()) # Save the loss value to train_loss_list we defined\n",
    "    \n",
    "    loss.backward() # Compute how much changes to be made to weights/biases\n",
    "\n",
    "    optimizer.step() # Update the weights/biases according to learning rate\n",
    "\n",
    "    print('epoch {}, loss {}'.format(epoch, loss.item()))"
   ]
  },
  {
   "cell_type": "markdown",
   "id": "4cd0258f",
   "metadata": {},
   "source": [
    "### 2.6 - Visualization and Evaluation"
   ]
  },
  {
   "cell_type": "code",
   "execution_count": null,
   "id": "142f7a0c",
   "metadata": {},
   "outputs": [],
   "source": [
    "with torch.no_grad(): # Telling PyTorch we aren't passing inputs to the model for training purpose, which requires gradient\n",
    "    \n",
    "    if torch.cuda.is_available(): # If you are using GPU version\n",
    "        \n",
    "        # 1. Convert x_train (np.array) -> torch tensors with torch.from_numpy()\n",
    "        # 2. Transfer x_train to GPU using .cuda()\n",
    "        # 3. Feed forward x_train to model to obtain the output using model()\n",
    "        # 4. Since the model lives in GPU, we should bring back the model output to CPU with .cpu()\n",
    "        # 5. Finally convert the torch tensor to numpy with .numpy()\n",
    "        predicted = model(torch.from_numpy(x_train).cuda()).cpu().numpy() \n",
    "        \n",
    "    else:\n",
    "        \n",
    "        # With CPU version, steps 2,3,4 above is not needed\n",
    "        predicted = model(torch.from_numpy(x_train)).numpy()\n",
    "    \n",
    "    # Print the predicted outputs - i.e., y-values and weight and biases in the trained neural network\n",
    "    print(predicted) \n",
    "    print(\"a: \" + str(model.linear.weight.cpu().numpy()), \"b: \" + str(model.linear.bias.cpu().numpy()))"
   ]
  },
  {
   "cell_type": "code",
   "execution_count": null,
   "id": "657c3809",
   "metadata": {},
   "outputs": [],
   "source": [
    "# Plot the predicted-y (blue line) vs expected targets (black dots)\n",
    "\n",
    "plt.figure(figsize = (10, 7))\n",
    "\n",
    "plt.plot(predicted, '--', linewidth = 3)\n",
    "plt.plot(x_train, y_train, 'o', color = 'black', markersize = 10)\n",
    "plt.xlabel('x', fontsize = 50)\n",
    "plt.ylabel('y', fontsize = 50)"
   ]
  },
  {
   "cell_type": "markdown",
   "id": "1bd1b6a6",
   "metadata": {},
   "source": [
    "# <span style='color:red'> Part 3: Python Concepts for PyTorch ---------------------------------------------------------</span>"
   ]
  },
  {
   "cell_type": "markdown",
   "id": "1820e25a",
   "metadata": {},
   "source": [
    "### 3.1 - Python Classes"
   ]
  },
  {
   "cell_type": "code",
   "execution_count": null,
   "id": "51887a31",
   "metadata": {},
   "outputs": [],
   "source": [
    "class Pokemon():\n",
    "    def __init__(self, Name, Type, Health): # Define attributes for the Pokemon object\n",
    "        self.Name = Name\n",
    "        self.Type = Type \n",
    "        self.Health = Health\n",
    "        \n",
    "    # Define methods for the Pokemon object\n",
    "    \n",
    "    def whats_your_name(self): # Your method can directly use the attributes defined in __init__\n",
    "        print(\"My name is \" + self.Name + \"!\")\n",
    "\n",
    "    def attack(self):\n",
    "        print(\"Electric attack! Zap!!\")\n",
    "\n",
    "    def dodge(self):\n",
    "        print(\"Pikachu Dodge!\")\n",
    "\n",
    "    def evolve(self):\n",
    "        print(\"Evolving to Raichu!!\")"
   ]
  },
  {
   "cell_type": "code",
   "execution_count": null,
   "id": "a9100501",
   "metadata": {},
   "outputs": [],
   "source": [
    "pk1 = Pokemon(Name = \"Pikachu\", Type = \"Electric\", Health = 70)"
   ]
  },
  {
   "cell_type": "code",
   "execution_count": null,
   "id": "d6c7d6a5",
   "metadata": {},
   "outputs": [],
   "source": [
    "pk1.Name"
   ]
  },
  {
   "cell_type": "code",
   "execution_count": null,
   "id": "30892060",
   "metadata": {},
   "outputs": [],
   "source": [
    "pk1.whats_your_name()"
   ]
  },
  {
   "cell_type": "code",
   "execution_count": null,
   "id": "84c2e2d8",
   "metadata": {},
   "outputs": [],
   "source": [
    "pk1.attack()"
   ]
  },
  {
   "cell_type": "markdown",
   "id": "d919403f",
   "metadata": {},
   "source": [
    "### 3.2 - PyTorch Tensors vs Numpy Arrays"
   ]
  },
  {
   "cell_type": "code",
   "execution_count": null,
   "id": "5e5de4ce",
   "metadata": {},
   "outputs": [],
   "source": [
    "# Defining a numpy array\n",
    "array1 = np.array([1,2,3,4]) \n",
    "print(array1, type(array1))"
   ]
  },
  {
   "cell_type": "code",
   "execution_count": null,
   "id": "30219acc",
   "metadata": {},
   "outputs": [],
   "source": [
    "# Defining a torch tensor\n",
    "tensor1 = torch.tensor([1,2,3,4])\n",
    "print(tensor1, type(tensor1))"
   ]
  },
  {
   "cell_type": "code",
   "execution_count": null,
   "id": "1a25ec8a",
   "metadata": {},
   "outputs": [],
   "source": [
    "# Converting numpy array to torch tensor\n",
    "array1_torch = torch.from_numpy(array1)\n",
    "print(array1_torch, type(array1_torch))"
   ]
  },
  {
   "cell_type": "code",
   "execution_count": null,
   "id": "6169a8dd",
   "metadata": {},
   "outputs": [],
   "source": [
    "# Converting torch tensor to numpy array\n",
    "tensor1_numpy = tensor1.numpy()\n",
    "print(tensor1_numpy, type(tensor1_numpy))"
   ]
  },
  {
   "cell_type": "markdown",
   "id": "f6429c30",
   "metadata": {},
   "source": [
    "### 3.3 - Handling Torch Tensors"
   ]
  },
  {
   "cell_type": "code",
   "execution_count": null,
   "id": "a931cbd4",
   "metadata": {},
   "outputs": [],
   "source": [
    "# Transferring your torch tensor to CPU\n",
    "tensor1_cpu = tensor1.cpu()\n",
    "print(tensor1_cpu.device)"
   ]
  },
  {
   "cell_type": "code",
   "execution_count": null,
   "id": "a71d086a",
   "metadata": {},
   "outputs": [],
   "source": [
    "# Transferring your torch tensor to GPU\n",
    "tensor1_gpu = tensor1.cuda()\n",
    "print(tensor1_gpu.device)"
   ]
  }
 ],
 "metadata": {
  "kernelspec": {
   "display_name": "Python 3 (ipykernel)",
   "language": "python",
   "name": "python3"
  },
  "language_info": {
   "codemirror_mode": {
    "name": "ipython",
    "version": 3
   },
   "file_extension": ".py",
   "mimetype": "text/x-python",
   "name": "python",
   "nbconvert_exporter": "python",
   "pygments_lexer": "ipython3",
   "version": "3.10.6"
  }
 },
 "nbformat": 4,
 "nbformat_minor": 5
}
