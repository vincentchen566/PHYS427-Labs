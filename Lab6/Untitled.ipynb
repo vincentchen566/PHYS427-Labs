{
 "cells": [
  {
   "cell_type": "code",
   "execution_count": 2,
   "id": "1b65435a",
   "metadata": {},
   "outputs": [
    {
     "name": "stdout",
     "output_type": "stream",
     "text": [
      "(2, 2754000)\n"
     ]
    }
   ],
   "source": [
    "import numpy as np\n",
    "import scipy\n",
    "output = np.load(\"output.npy\")\n",
    "print(output.shape)"
   ]
  },
  {
   "cell_type": "code",
   "execution_count": 4,
   "id": "b628813a",
   "metadata": {},
   "outputs": [],
   "source": [
    "scipy.io.wavfile.write(\"TSR_fixed.wav\", 4800, output.T)"
   ]
  },
  {
   "cell_type": "code",
   "execution_count": null,
   "id": "43a7c331",
   "metadata": {},
   "outputs": [],
   "source": []
  }
 ],
 "metadata": {
  "kernelspec": {
   "display_name": "Python 3 (ipykernel)",
   "language": "python",
   "name": "python3"
  },
  "language_info": {
   "codemirror_mode": {
    "name": "ipython",
    "version": 3
   },
   "file_extension": ".py",
   "mimetype": "text/x-python",
   "name": "python",
   "nbconvert_exporter": "python",
   "pygments_lexer": "ipython3",
   "version": "3.10.6"
  }
 },
 "nbformat": 4,
 "nbformat_minor": 5
}
