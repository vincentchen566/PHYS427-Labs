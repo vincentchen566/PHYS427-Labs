{
 "cells": [
  {
   "cell_type": "markdown",
   "id": "7f1be33f",
   "metadata": {},
   "source": [
    "# Lab 9 Report: \n",
    "## Final Project Codebase"
   ]
  },
  {
   "cell_type": "markdown",
   "id": "af7b72a9",
   "metadata": {},
   "source": [
    "## Project Title: Same as your poster title"
   ]
  },
  {
   "cell_type": "markdown",
   "id": "bf02d733",
   "metadata": {},
   "source": [
    "### Group Members:"
   ]
  },
  {
   "cell_type": "markdown",
   "id": "a935c2e8",
   "metadata": {},
   "source": [
    "--------------------"
   ]
  },
  {
   "cell_type": "markdown",
   "id": "855b4738",
   "metadata": {},
   "source": [
    "## Prepare Data"
   ]
  },
  {
   "cell_type": "code",
   "execution_count": 1,
   "id": "8382e6f7",
   "metadata": {
    "scrolled": true
   },
   "outputs": [
    {
     "name": "stdout",
     "output_type": "stream",
     "text": [
      "[0 1 2 ... 0 0 1]\n",
      "(2132, 2548)\n",
      "(2132,)\n"
     ]
    }
   ],
   "source": [
    "import numpy as np\n",
    "import torch\n",
    "import matplotlib.pyplot as plt\n",
    "import pandas as pd\n",
    "import seaborn as sns\n",
    "from sklearn.preprocessing import StandardScaler\n",
    "\n",
    "y = pd.read_csv('emotions.csv')\n",
    "y=y.to_numpy()\n",
    "\n",
    "x = y[:,:-1]\n",
    "y = y[:,-1]\n",
    "\n",
    "for i in range(y.shape[0]):\n",
    "    if y[i]==\"NEGATIVE\":\n",
    "        y[i]=0\n",
    "    elif y[i]==\"NEUTRAL\":\n",
    "        y[i]=1\n",
    "    else:\n",
    "        y[i]=2\n",
    "print(y)\n",
    "\n",
    "scaler = StandardScaler()\n",
    "training_features = scaler.fit_transform(x)\n",
    "\n",
    "print(x.shape)\n",
    "print(y.shape)\n",
    "\n",
    "\n",
    "x_train = training_features[:1800]\n",
    "y_train = y[:1800].astype(int)\n",
    "\n",
    "x_validation = training_features[1800:2000]\n",
    "y_validation = y[1800:2000].astype(int)\n",
    "x_test = training_features[2000:]\n",
    "y_test = y[2000:].astype(int)"
   ]
  },
  {
   "cell_type": "markdown",
   "id": "cfda0488",
   "metadata": {},
   "source": [
    "## Define Model"
   ]
  },
  {
   "cell_type": "code",
   "execution_count": 2,
   "id": "55d5426b",
   "metadata": {},
   "outputs": [],
   "source": [
    "class moodClassifierFCN(torch.nn.Module):\n",
    "    def __init__(self, input_dim, output_dim, hidden1_dim, hidden2_dim):\n",
    "        super(moodClassifierFCN, self).__init__()\n",
    "        \n",
    "        self.layer1 = torch.nn.Linear(input_dim, hidden1_dim)\n",
    "        self.layer2 = torch.nn.Linear(hidden1_dim, hidden2_dim)\n",
    "        self.layer3 = torch.nn.Linear(hidden2_dim, output_dim)\n",
    "        \n",
    "    def forward(self,x):\n",
    "        out1 = torch.nn.functional.relu(self.layer1(x))\n",
    "        out2 = torch.nn.functional.relu(self.layer2(out1))\n",
    "        output = self.layer3(out2)\n",
    "        \n",
    "        return output"
   ]
  },
  {
   "cell_type": "markdown",
   "id": "aac20f78",
   "metadata": {},
   "source": [
    "## Define Hyperparameters"
   ]
  },
  {
   "cell_type": "code",
   "execution_count": 3,
   "id": "4df0fd7d",
   "metadata": {},
   "outputs": [],
   "source": [
    "model = moodClassifierFCN(2548, 3, 512, 64)\n",
    "\n",
    "epochs = 40\n",
    "learning_rate = 0.01\n",
    "\n",
    "\n",
    "loss_func = torch.nn.CrossEntropyLoss()\n",
    "optimizer = torch.optim.Adam(model.parameters(), lr=learning_rate)"
   ]
  },
  {
   "cell_type": "markdown",
   "id": "ff8fba0e",
   "metadata": {},
   "source": [
    "## Identify Tracked Values"
   ]
  },
  {
   "cell_type": "code",
   "execution_count": 4,
   "id": "eccf5783",
   "metadata": {},
   "outputs": [],
   "source": [
    "train_loss_list = []\n",
    "validation_accuracy_list = []"
   ]
  },
  {
   "cell_type": "markdown",
   "id": "c403ae44",
   "metadata": {},
   "source": [
    "## Train Model"
   ]
  },
  {
   "cell_type": "code",
   "execution_count": 8,
   "id": "7b1a7f17",
   "metadata": {},
   "outputs": [
    {
     "name": "stdout",
     "output_type": "stream",
     "text": [
      "Epoch 0 validation accuracy: tensor(0.3250)\n",
      "Epoch 1 validation accuracy: tensor(0.3950)\n",
      "Epoch 2 validation accuracy: tensor(0.6750)\n",
      "Epoch 3 validation accuracy: tensor(0.7700)\n",
      "Epoch 4 validation accuracy: tensor(0.6000)\n",
      "Epoch 5 validation accuracy: tensor(0.5900)\n",
      "Epoch 6 validation accuracy: tensor(0.7200)\n",
      "Epoch 7 validation accuracy: tensor(0.7250)\n",
      "Epoch 8 validation accuracy: tensor(0.4950)\n",
      "Epoch 9 validation accuracy: tensor(0.8300)\n",
      "Epoch 10 validation accuracy: tensor(0.8950)\n",
      "Epoch 11 validation accuracy: tensor(0.6500)\n",
      "Epoch 12 validation accuracy: tensor(0.9300)\n",
      "Epoch 13 validation accuracy: tensor(0.9150)\n",
      "Epoch 14 validation accuracy: tensor(0.8650)\n",
      "Epoch 15 validation accuracy: tensor(0.8600)\n",
      "Epoch 16 validation accuracy: tensor(0.8800)\n",
      "Epoch 17 validation accuracy: tensor(0.8350)\n",
      "Epoch 18 validation accuracy: tensor(0.8050)\n",
      "Epoch 19 validation accuracy: tensor(0.8050)\n",
      "Epoch 20 validation accuracy: tensor(0.8350)\n",
      "Epoch 21 validation accuracy: tensor(0.8450)\n",
      "Epoch 22 validation accuracy: tensor(0.9000)\n",
      "Epoch 23 validation accuracy: tensor(0.8500)\n",
      "Epoch 24 validation accuracy: tensor(0.9400)\n",
      "Epoch 25 validation accuracy: tensor(0.9350)\n",
      "Epoch 26 validation accuracy: tensor(0.9400)\n",
      "Epoch 27 validation accuracy: tensor(0.9450)\n",
      "Epoch 28 validation accuracy: tensor(0.9350)\n",
      "Epoch 29 validation accuracy: tensor(0.9350)\n",
      "Epoch 30 validation accuracy: tensor(0.8350)\n",
      "Epoch 31 validation accuracy: tensor(0.9100)\n",
      "Epoch 32 validation accuracy: tensor(0.9300)\n",
      "Epoch 33 validation accuracy: tensor(0.9250)\n",
      "Epoch 34 validation accuracy: tensor(0.9400)\n",
      "Epoch 35 validation accuracy: tensor(0.9500)\n",
      "Epoch 36 validation accuracy: tensor(0.9500)\n",
      "Epoch 37 validation accuracy: tensor(0.9450)\n",
      "Epoch 38 validation accuracy: tensor(0.9550)\n",
      "Epoch 39 validation accuracy: tensor(0.9400)\n"
     ]
    }
   ],
   "source": [
    "train_inputs = torch.from_numpy(x_train).float()\n",
    "train_targets = torch.from_numpy(y_train).long()\n",
    "\n",
    "validation_inputs = torch.from_numpy(x_validation).float()\n",
    "validation_targets = torch.from_numpy(y_validation).long()\n",
    "\n",
    "test_inputs = torch.from_numpy(x_test).float()\n",
    "test_targets = torch.from_numpy(y_test).long()\n",
    "\n",
    "\n",
    "for epoch in range(epochs):\n",
    "    optimizer.zero_grad()\n",
    "    \n",
    "    train_outputs = model(train_inputs)\n",
    "    \n",
    "    loss = loss_func(train_outputs, train_targets)\n",
    "    \n",
    "    train_loss_list.append(loss.item())\n",
    "    \n",
    "    loss.backward()\n",
    "    \n",
    "    optimizer.step()\n",
    "    \n",
    "    with torch.no_grad():\n",
    "        validation_outputs = model(validation_inputs)\n",
    "        correct = (torch.argmax(validation_outputs, dim=1) == validation_targets).type(torch.FloatTensor)\n",
    "        \n",
    "        validation_accuracy_list.append(correct.mean())\n",
    "        \n",
    "    print(\"Epoch \" + str(epoch) + \" validation accuracy: \" + str(validation_accuracy_list[epoch]))"
   ]
  },
  {
   "cell_type": "markdown",
   "id": "e1b49cc5",
   "metadata": {},
   "source": [
    "## Visualize & Evaluate Model"
   ]
  },
  {
   "cell_type": "code",
   "execution_count": 10,
   "id": "1d4440cd",
   "metadata": {},
   "outputs": [
    {
     "name": "stdout",
     "output_type": "stream",
     "text": [
      "tensor(0.9545)\n"
     ]
    },
    {
     "data": {
      "image/png": "[encoded data removed]",
      "text/plain": [
       "<Figure size 864x432 with 2 Axes>"
      ]
     },
     "metadata": {
      "needs_background": "light"
     },
     "output_type": "display_data"
    }
   ],
   "source": [
    "plt.figure(figsize=(12,6))\n",
    "\n",
    "plt.subplot(2,1,1)\n",
    "plt.plot(validation_accuracy_list, linewidth=3, color=\"gold\")\n",
    "plt.ylabel(\"validation accuracy\")\n",
    "plt.xlabel(\"epochs\")\n",
    "\n",
    "plt.subplot(2, 1, 2)\n",
    "plt.plot(train_loss_list, linewidth=3)\n",
    "plt.ylabel(\"training loss\")\n",
    "plt.xlabel(\"epochs\")\n",
    "sns.despine()\n",
    "\n",
    "\n",
    "\n",
    "with torch.no_grad():\n",
    "    test_outputs = model(test_inputs)\n",
    "    correct = (torch.argmax(test_outputs, dim=1) == test_targets).type(torch.FloatTensor)\n",
    "\n",
    "    print(correct.mean())"
   ]
  },
  {
   "cell_type": "code",
   "execution_count": null,
   "id": "7988119a",
   "metadata": {},
   "outputs": [],
   "source": []
  }
 ],
 "metadata": {
  "kernelspec": {
   "display_name": "Python 3 (ipykernel)",
   "language": "python",
   "name": "python3"
  },
  "language_info": {
   "codemirror_mode": {
    "name": "ipython",
    "version": 3
   },
   "file_extension": ".py",
   "mimetype": "text/x-python",
   "name": "python",
   "nbconvert_exporter": "python",
   "pygments_lexer": "ipython3",
   "version": "3.10.6"
  }
 },
 "nbformat": 4,
 "nbformat_minor": 5
}
