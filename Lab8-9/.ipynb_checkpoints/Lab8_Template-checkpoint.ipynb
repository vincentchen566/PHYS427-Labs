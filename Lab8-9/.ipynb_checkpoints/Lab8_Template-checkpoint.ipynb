{
 "cells": [
  {
   "cell_type": "markdown",
   "id": "c76bd7e6",
   "metadata": {},
   "source": [
    "# Lab 8 Report: \n",
    "## FINAL PROJECT STRATEGIC PLANNING"
   ]
  },
  {
   "cell_type": "markdown",
   "id": "3f5ed902",
   "metadata": {},
   "source": [
    "### Lab 8 Instruction: https://canvas.uw.edu/courses/1548925/files/92225287?wrap=1"
   ]
  },
  {
   "cell_type": "markdown",
   "id": "0098c149",
   "metadata": {},
   "source": [
    "### Team Members:"
   ]
  },
  {
   "cell_type": "markdown",
   "id": "36869478",
   "metadata": {},
   "source": [
    "### Dataset for your project:"
   ]
  },
  {
   "cell_type": "markdown",
   "id": "7b08ff02",
   "metadata": {},
   "source": [
    "#### Feel free to delete or modify pre-written markdown cells below the line"
   ]
  },
  {
   "cell_type": "markdown",
   "id": "3fe993be",
   "metadata": {},
   "source": [
    "---"
   ]
  },
  {
   "cell_type": "markdown",
   "id": "596ea344",
   "metadata": {},
   "source": [
    "## Understanding the Data"
   ]
  },
  {
   "cell_type": "code",
   "execution_count": null,
   "id": "53027328",
   "metadata": {},
   "outputs": [],
   "source": []
  },
  {
   "cell_type": "markdown",
   "id": "526dd6ab",
   "metadata": {},
   "source": [
    "## Understanding the Task"
   ]
  },
  {
   "cell_type": "code",
   "execution_count": null,
   "id": "7cafad17",
   "metadata": {},
   "outputs": [],
   "source": []
  },
  {
   "cell_type": "markdown",
   "id": "f275694a",
   "metadata": {},
   "source": [
    "## Developing an initial plan for your project"
   ]
  },
  {
   "cell_type": "code",
   "execution_count": null,
   "id": "0bcf2b94",
   "metadata": {},
   "outputs": [],
   "source": []
  }
 ],
 "metadata": {
  "kernelspec": {
   "display_name": "Python 3 (ipykernel)",
   "language": "python",
   "name": "python3"
  },
  "language_info": {
   "codemirror_mode": {
    "name": "ipython",
    "version": 3
   },
   "file_extension": ".py",
   "mimetype": "text/x-python",
   "name": "python",
   "nbconvert_exporter": "python",
   "pygments_lexer": "ipython3",
   "version": "3.10.6"
  }
 },
 "nbformat": 4,
 "nbformat_minor": 5
}
